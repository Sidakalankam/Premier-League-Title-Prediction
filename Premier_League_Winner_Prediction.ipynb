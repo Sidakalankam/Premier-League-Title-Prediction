{
  "nbformat": 4,
  "nbformat_minor": 0,
  "metadata": {
    "colab": {
      "provenance": [],
      "gpuType": "T4",
      "authorship_tag": "ABX9TyNvx4O9f+Tj3RGykx1XAaHn",
      "include_colab_link": true
    },
    "kernelspec": {
      "name": "python3",
      "display_name": "Python 3"
    },
    "language_info": {
      "name": "python"
    },
    "accelerator": "GPU"
  },
  "cells": [
    {
      "cell_type": "markdown",
      "metadata": {
        "id": "view-in-github",
        "colab_type": "text"
      },
      "source": [
        "<a href=\"https://colab.research.google.com/github/Sidakalankam/Premier-League-Title-Prediction/blob/main/Premier_League_Winner_Prediction.ipynb\" target=\"_parent\"><img src=\"https://colab.research.google.com/assets/colab-badge.svg\" alt=\"Open In Colab\"/></a>"
      ]
    },
    {
      "cell_type": "markdown",
      "source": [],
      "metadata": {
        "id": "dZLRXColTDQk"
      }
    },
    {
      "cell_type": "code",
      "source": [
        "import pandas as pd\n",
        "import torch\n",
        "import torch.nn as nn\n",
        "import torch.optim as optim\n",
        "from sklearn.preprocessing import LabelEncoder, StandardScaler\n",
        "from sklearn.model_selection import train_test_split\n"
      ],
      "metadata": {
        "id": "x99Zl_-KSFbo"
      },
      "execution_count": null,
      "outputs": []
    },
    {
      "cell_type": "code",
      "source": [
        "# Load the data\n",
        "df_train = pd.read_csv('premier_league_winners_training.csv')\n",
        "df_test = pd.read_csv('premier_league_winners_test.csv')\n",
        "\n",
        "# Combine train and test data for encoding\n",
        "df_combined = pd.concat([df_train, df_test], axis=0)\n",
        "\n",
        "# Preprocess the data\n",
        "le_winner = LabelEncoder()\n",
        "le_runner = LabelEncoder()\n",
        "\n",
        "df_combined['Winner'] = le_winner.fit_transform(df_combined['Winner'])\n",
        "df_combined['Runners-up'] = le_runner.fit_transform(df_combined['Runners-up'])\n",
        "\n",
        "# Add new features\n",
        "df_combined['Year'] = df_combined['Year'].apply(lambda x: int(x.split('-')[0]))\n",
        "\n",
        "# Sort the data by year\n",
        "df_combined = df_combined.sort_values(by='Year').reset_index(drop=True)\n",
        "\n",
        "# Initialize columns for previous winner, runner-up, and number of wins\n",
        "df_combined['Previous_Winner'] = -1\n",
        "df_combined['Previous_Runner'] = -1\n",
        "df_combined['Number_of_Wins'] = 0\n",
        "\n",
        "# Create dictionaries to keep track of the last known winners, runners-up, and number of wins\n",
        "last_winner = {}\n",
        "last_runner = {}\n",
        "wins_count = {}\n",
        "\n",
        "# Assign the previous winner and runner-up for each year, and count wins\n",
        "for idx in range(len(df_combined)):\n",
        "    current_year = df_combined.loc[idx, 'Year']\n",
        "    current_winner = df_combined.loc[idx, 'Winner']\n",
        "\n",
        "    if current_year - 1 in wins_count:\n",
        "        df_combined.at[idx, 'Number_of_Wins'] = wins_count[current_year - 1]\n",
        "\n",
        "    if idx > 0:\n",
        "        prev_year = df_combined.loc[idx - 1, 'Year']\n",
        "        if current_year == prev_year + 1:\n",
        "            df_combined.at[idx, 'Previous_Winner'] = df_combined.loc[idx - 1, 'Winner']\n",
        "            df_combined.at[idx, 'Previous_Runner'] = df_combined.loc[idx - 1, 'Runners-up']\n",
        "        else:\n",
        "            if current_year - 1 in last_winner:\n",
        "                df_combined.at[idx, 'Previous_Winner'] = last_winner[current_year - 1]\n",
        "            if current_year - 1 in last_runner:\n",
        "                df_combined.at[idx, 'Previous_Runner'] = last_runner[current_year - 1]\n",
        "\n",
        "    # Update the dictionaries with the current year's winner and runner-up\n",
        "    if current_winner not in wins_count:\n",
        "        wins_count[current_winner] = 0\n",
        "    wins_count[current_winner] += 1\n",
        "    df_combined.at[idx, 'Number_of_Wins'] = wins_count[current_winner]\n",
        "\n",
        "    last_winner[current_year] = current_winner\n",
        "    last_runner[current_year] = df_combined.loc[idx, 'Runners-up']\n",
        "\n",
        "# Fill NaN values for previous winner and runner-up\n",
        "df_combined['Previous_Winner'].replace(-1, df_combined['Previous_Winner'].mode()[0], inplace=True)\n",
        "df_combined['Previous_Runner'].replace(-1, df_combined['Previous_Runner'].mode()[0], inplace=True)\n",
        "\n",
        "# Calculate Years Since Last Win\n",
        "df_combined['Years_Since_Last_Win'] = df_combined.groupby('Winner')['Year'].diff().fillna(0)\n",
        "\n",
        "# Split back into train and test\n",
        "df_train = df_combined.iloc[:len(df_train)]\n",
        "df_test = df_combined.iloc[len(df_train):]\n",
        "\n",
        "# Extract features and target for training\n",
        "features = ['Year', 'Runners-up', 'Previous_Winner', 'Previous_Runner', 'Years_Since_Last_Win', 'Number_of_Wins']\n",
        "X = df_train[features].values\n",
        "y = df_train['Winner'].values\n",
        "\n",
        "# Normalize the input data\n",
        "scaler = StandardScaler()\n",
        "X = scaler.fit_transform(X)\n",
        "\n",
        "# Convert to tensors\n",
        "X = torch.tensor(X, dtype=torch.float32)\n",
        "y = torch.tensor(y, dtype=torch.long)\n",
        "\n",
        "# Split the data\n",
        "X_train, X_val, y_train, y_val = train_test_split(X, y, test_size=0.2, random_state=42)\n",
        "\n",
        "print(df_train)"
      ],
      "metadata": {
        "colab": {
          "base_uri": "https://localhost:8080/"
        },
        "id": "o4phZ9dbTZe5",
        "outputId": "9538a7d0-75e6-4c97-d288-9299cd2e7b33"
      },
      "execution_count": null,
      "outputs": [
        {
          "output_type": "stream",
          "name": "stdout",
          "text": [
            "     Year  Winner  Runners-up  Previous_Winner  Previous_Runner  \\\n",
            "0    1888      18           1               14               18   \n",
            "1    1889      18          11               18                1   \n",
            "2    1890       7          22               18               11   \n",
            "3    1891      21          22                7               22   \n",
            "4    1892      21          22               21               22   \n",
            "..    ...     ...         ...              ...              ...   \n",
            "116  2014       4          17               13               16   \n",
            "117  2015      11           0                4               17   \n",
            "118  2016       4          28               11                0   \n",
            "119  2017      13          18                4               28   \n",
            "120  2018      13          16               13               18   \n",
            "\n",
            "     Number_of_Wins  Years_Since_Last_Win  \n",
            "0                 1                   0.0  \n",
            "1                 2                   1.0  \n",
            "2                 1                   0.0  \n",
            "3                 1                   0.0  \n",
            "4                 2                   1.0  \n",
            "..              ...                   ...  \n",
            "116               5                   5.0  \n",
            "117               1                   0.0  \n",
            "118               6                   2.0  \n",
            "119               5                   4.0  \n",
            "120               6                   1.0  \n",
            "\n",
            "[121 rows x 7 columns]\n"
          ]
        }
      ]
    },
    {
      "cell_type": "code",
      "source": [
        "# Define the model\n",
        "class PremierLeaguePredictor(nn.Module):\n",
        "    def __init__(self, input_size, hidden_size1, hidden_size2, output_size, dropout_rate=0.5):\n",
        "        super(PremierLeaguePredictor, self).__init__()\n",
        "        self.fc1 = nn.Linear(input_size, hidden_size1)\n",
        "        self.fc2 = nn.Linear(hidden_size1, hidden_size2)\n",
        "        self.fc3 = nn.Linear(hidden_size2, output_size)\n",
        "        self.relu = nn.ReLU()\n",
        "        self.dropout = nn.Dropout(dropout_rate)\n",
        "        self.batch_norm1 = nn.BatchNorm1d(hidden_size1)\n",
        "        self.batch_norm2 = nn.BatchNorm1d(hidden_size2)\n",
        "\n",
        "    def forward(self, x):\n",
        "        x = self.fc1(x)\n",
        "        x = self.batch_norm1(x)\n",
        "        x = self.relu(x)\n",
        "        x = self.dropout(x)\n",
        "        x = self.fc2(x)\n",
        "        x = self.batch_norm2(x)\n",
        "        x = self.relu(x)\n",
        "        x = self.dropout(x)\n",
        "        x = self.fc3(x)\n",
        "        return x\n",
        "\n",
        "# Initialize the model\n",
        "input_size = len(features)\n",
        "hidden_size1 = 128\n",
        "hidden_size2 = 64\n",
        "output_size = len(le_winner.classes_)\n",
        "model = PremierLeaguePredictor(input_size, hidden_size1, hidden_size2, output_size)\n",
        "\n"
      ],
      "metadata": {
        "id": "avNEXMJNV10e"
      },
      "execution_count": null,
      "outputs": []
    },
    {
      "cell_type": "code",
      "source": [
        "# Define loss function and optimizer\n",
        "criterion = nn.CrossEntropyLoss()\n",
        "optimizer = optim.Adam(model.parameters(), lr=0.001, weight_decay=1e-5)\n",
        "\n",
        "# Train the model\n",
        "num_epochs = 2000\n",
        "batch_size = 16\n",
        "\n",
        "for epoch in range(num_epochs):\n",
        "    for i in range(0, len(X_train), batch_size):\n",
        "        batch_X = X_train[i:i+batch_size]\n",
        "        batch_y = y_train[i:i+batch_size]\n",
        "\n",
        "        # Forward pass\n",
        "        outputs = model(batch_X)\n",
        "        loss = criterion(outputs, batch_y)\n",
        "\n",
        "        # Backward pass and optimize\n",
        "        optimizer.zero_grad()\n",
        "        loss.backward()\n",
        "        optimizer.step()\n",
        "\n",
        "    if (epoch + 1) % 100 == 0:\n",
        "        print(f'Epoch [{epoch+1}/{num_epochs}], Loss: {loss.item():.4f}')"
      ],
      "metadata": {
        "colab": {
          "base_uri": "https://localhost:8080/"
        },
        "id": "9KAPmhBaaOyB",
        "outputId": "9fa09ede-57c2-4b49-b7d6-e61824746b82"
      },
      "execution_count": null,
      "outputs": [
        {
          "output_type": "stream",
          "name": "stdout",
          "text": [
            "Epoch [100/2000], Loss: 1.5307\n",
            "Epoch [200/2000], Loss: 0.7476\n",
            "Epoch [300/2000], Loss: 0.6946\n",
            "Epoch [400/2000], Loss: 0.5306\n",
            "Epoch [500/2000], Loss: 0.6054\n",
            "Epoch [600/2000], Loss: 0.4349\n",
            "Epoch [700/2000], Loss: 0.2422\n",
            "Epoch [800/2000], Loss: 0.2625\n",
            "Epoch [900/2000], Loss: 0.1640\n",
            "Epoch [1000/2000], Loss: 0.2789\n",
            "Epoch [1100/2000], Loss: 0.1542\n",
            "Epoch [1200/2000], Loss: 0.0994\n",
            "Epoch [1300/2000], Loss: 0.0754\n",
            "Epoch [1400/2000], Loss: 0.2082\n",
            "Epoch [1500/2000], Loss: 0.0833\n",
            "Epoch [1600/2000], Loss: 0.1595\n",
            "Epoch [1700/2000], Loss: 0.0573\n",
            "Epoch [1800/2000], Loss: 0.2225\n",
            "Epoch [1900/2000], Loss: 0.4127\n",
            "Epoch [2000/2000], Loss: 0.1644\n"
          ]
        }
      ]
    },
    {
      "cell_type": "code",
      "source": [
        "# Prepare test data\n",
        "X_test = df_test[features].values\n",
        "X_test = scaler.transform(X_test)\n",
        "X_test = torch.tensor(X_test, dtype=torch.float32)\n",
        "\n",
        "# Make predictions\n",
        "model.eval()\n",
        "with torch.no_grad():\n",
        "    predictions = model(X_test)\n",
        "    predicted_winners = le_winner.inverse_transform(predictions.argmax(dim=1).numpy())\n",
        "\n",
        "# Print predictions\n",
        "for year, winner in zip(df_test['Year'], predicted_winners):\n",
        "    print(f\"Predicted winner for {year}: {winner}\")\n",
        "\n",
        "# Compare with actual winners\n",
        "actual_winners = le_winner.inverse_transform(df_test['Winner'].values)\n",
        "correct_predictions = sum(predicted_winners == actual_winners)\n",
        "accuracy = correct_predictions / len(actual_winners)\n",
        "print(f\"\\nAccuracy: {accuracy:.2f}\")\n",
        "\n",
        "print(\"Actual winners:\", actual_winners)\n",
        "print(\"Predicted winners:\", predicted_winners)"
      ],
      "metadata": {
        "colab": {
          "base_uri": "https://localhost:8080/"
        },
        "id": "J3hi2FcpjyDM",
        "outputId": "adfb6d14-480e-4855-ae75-2d8fefe21932"
      },
      "execution_count": null,
      "outputs": [
        {
          "output_type": "stream",
          "name": "stdout",
          "text": [
            "Predicted winner for 2019: Manchester United\n",
            "Predicted winner for 2020: Manchester City\n",
            "Predicted winner for 2021: Manchester City\n",
            "Predicted winner for 2022: Manchester United\n",
            "Predicted winner for 2023: Manchester United\n",
            "\n",
            "Accuracy: 0.40\n",
            "Actual winners: ['Liverpool' 'Manchester City' 'Manchester City' 'Manchester City'\n",
            " 'Manchester City']\n",
            "Predicted winners: ['Manchester United' 'Manchester City' 'Manchester City'\n",
            " 'Manchester United' 'Manchester United']\n"
          ]
        }
      ]
    },
    {
      "cell_type": "code",
      "source": [],
      "metadata": {
        "colab": {
          "base_uri": "https://localhost:8080/"
        },
        "id": "jjHX7hOgjzPa",
        "outputId": "db0198ef-9990-4d1f-bebf-694fe29c3d5a"
      },
      "execution_count": null,
      "outputs": [
        {
          "output_type": "stream",
          "name": "stdout",
          "text": [
            "fatal: not a git repository (or any of the parent directories): .git\n"
          ]
        }
      ]
    },
    {
      "cell_type": "code",
      "source": [],
      "metadata": {
        "id": "RLxXCgYvBFOD"
      },
      "execution_count": null,
      "outputs": []
    }
  ]
}